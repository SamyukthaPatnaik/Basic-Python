{
 "cells": [
  {
   "cell_type": "markdown",
   "id": "17015154",
   "metadata": {},
   "source": [
    "# Question & Answers"
   ]
  },
  {
   "cell_type": "markdown",
   "id": "914d0fc4",
   "metadata": {},
   "source": [
    "-------------------------------------------------------------------------------------------------------------------------------"
   ]
  },
  {
   "cell_type": "markdown",
   "id": "595e3ccb",
   "metadata": {},
   "source": [
    "###  WAP to enter a number from user and print valid if it is between 1-10 or else print whether it is greater than 10 or smaller than 1"
   ]
  },
  {
   "cell_type": "code",
   "execution_count": 1,
   "id": "8c3ad97b",
   "metadata": {},
   "outputs": [
    {
     "name": "stdout",
     "output_type": "stream",
     "text": [
      "Enter a number between 1-10: 4\n",
      "4 is valid\n"
     ]
    }
   ],
   "source": [
    "x = int(input(\"Enter a number between 1-10: \"))\n",
    "\n",
    "if 1<=x<=10:\n",
    "    print(x, \"is valid\")\n",
    "elif x>10:\n",
    "    print(\"your number is greater than 10\")\n",
    "else:\n",
    "    print(\"your number is smaller than 1\")"
   ]
  },
  {
   "cell_type": "markdown",
   "id": "5b26f498",
   "metadata": {},
   "source": [
    "### WAP to enter a number from user and check if it is even or odd."
   ]
  },
  {
   "cell_type": "code",
   "execution_count": 2,
   "id": "d3236391",
   "metadata": {},
   "outputs": [
    {
     "name": "stdout",
     "output_type": "stream",
     "text": [
      "Enter a number: 4\n",
      "It is an even number\n"
     ]
    }
   ],
   "source": [
    "x = int(input(\"Enter a number: \"))\n",
    "if x%2 == 0:\n",
    "    print(\"It is an even number\")\n",
    "else:\n",
    "    print(\"It is an odd number\")"
   ]
  },
  {
   "cell_type": "markdown",
   "id": "90dc8ae8",
   "metadata": {},
   "source": [
    "### WAP to enter a character from user and check if it is vowel or consonant"
   ]
  },
  {
   "cell_type": "code",
   "execution_count": 3,
   "id": "26f81c48",
   "metadata": {},
   "outputs": [
    {
     "name": "stdout",
     "output_type": "stream",
     "text": [
      "Enter a character: y\n",
      "y  = consonant\n"
     ]
    }
   ],
   "source": [
    "x = input(\"Enter a character: \")\n",
    "\n",
    "if x == \"a\" or x == \"e\" or x == \"i\" or x == \"o\" or x == \"u\" or x == \"A\" or x == \"E\" or x == \"I\" or x == \"O\" or x == \"U\":\n",
    "    print(x,\" = vowel\")\n",
    "else:\n",
    "    print(x,\" = consonant\")"
   ]
  },
  {
   "cell_type": "markdown",
   "id": "901397b2",
   "metadata": {},
   "source": [
    "###  WAP to take 2 values from user and print greater value."
   ]
  },
  {
   "cell_type": "code",
   "execution_count": 4,
   "id": "24276952",
   "metadata": {},
   "outputs": [
    {
     "name": "stdout",
     "output_type": "stream",
     "text": [
      "Enter first number: 10\n",
      "Enter second number: 20\n",
      "10 is less then 20\n"
     ]
    }
   ],
   "source": [
    "a = int(input(\"Enter first number: \"))\n",
    "b = int(input(\"Enter second number: \"))\n",
    "\n",
    "if a > b:\n",
    "    print(a,\" is greater then\",b)\n",
    "elif a < b:\n",
    "    print(a, \"is less then\",b)\n",
    "else:\n",
    "    print(a, \" is equal to\", b) year = divisible by 400 is a leap year\n",
    "\n",
    " year = divisible by 4 but not by 100 is also a leap year\n",
    "\n",
    " year = years which doesn't comes under these two conditions are not a leap year\n",
    "\n",
    " Program 👇\n"
   ]
  },
  {
   "cell_type": "markdown",
   "id": "e04fd545",
   "metadata": {},
   "source": [
    "### WAP to enter a year from user and check if it is leap year of not."
   ]
  },
  {
   "cell_type": "raw",
   "id": "eee17144",
   "metadata": {},
   "source": [
    " year = divisible by 400 is a leap year\n",
    "\n",
    " year = divisible by 4 but not by 100 is also a leap year\n",
    "\n",
    " year = years which doesn't comes under these two conditions are not a leap year\n",
    "\n",
    " Program 👇\n"
   ]
  },
  {
   "cell_type": "code",
   "execution_count": 7,
   "id": "d91a6e2b",
   "metadata": {},
   "outputs": [
    {
     "name": "stdout",
     "output_type": "stream",
     "text": [
      "Enter the year: 2022\n",
      "2022 = not a leap year\n"
     ]
    }
   ],
   "source": [
    "year = int(input(\"Enter the year: \"))\n",
    "\n",
    "if (year % 400 == 0) or (year % 4 == 0 and year % 100 !=0):\n",
    "    print(year, \"= leap year\")\n",
    "else:\n",
    "    print(year, \"= not a leap year\")"
   ]
  },
  {
   "cell_type": "code",
   "execution_count": 8,
   "id": "beff6901",
   "metadata": {},
   "outputs": [
    {
     "name": "stdout",
     "output_type": "stream",
     "text": [
      "Enter the year: 2012\n",
      "2012 = leap year\n"
     ]
    }
   ],
   "source": [
    "year = int(input(\"Enter the year: \"))\n",
    "\n",
    "if (year % 400 == 0) or (year % 4 == 0 and year % 100 !=0):\n",
    "    print(year, \"= leap year\")\n",
    "else:\n",
    "    print(year, \"= not a leap year\")\n",
    "    "
   ]
  },
  {
   "cell_type": "code",
   "execution_count": null,
   "id": "f2ec7047",
   "metadata": {},
   "outputs": [],
   "source": []
  }
 ],
 "metadata": {
  "kernelspec": {
   "display_name": "Python 3 (ipykernel)",
   "language": "python",
   "name": "python3"
  },
  "language_info": {
   "codemirror_mode": {
    "name": "ipython",
    "version": 3
   },
   "file_extension": ".py",
   "mimetype": "text/x-python",
   "name": "python",
   "nbconvert_exporter": "python",
   "pygments_lexer": "ipython3",
   "version": "3.8.8"
  }
 },
 "nbformat": 4,
 "nbformat_minor": 5
}
