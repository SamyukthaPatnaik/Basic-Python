{
 "cells": [
  {
   "cell_type": "markdown",
   "id": "242a6d89",
   "metadata": {},
   "source": [
    "# Question & Answers"
   ]
  },
  {
   "cell_type": "markdown",
   "id": "26b8eccf",
   "metadata": {},
   "source": [
    "-------------------------------------------------------------------------------------------------------------------------------"
   ]
  },
  {
   "cell_type": "markdown",
   "id": "9bcaad23",
   "metadata": {},
   "source": [
    "###  WAP to enter a number from user and print valid if it is between 1-10 or else print whether it is greater than 10 or smaller than 1"
   ]
  },
  {
   "cell_type": "code",
   "execution_count": 1,
   "id": "c0dd1dd3",
   "metadata": {},
   "outputs": [
    {
     "name": "stdout",
     "output_type": "stream",
     "text": [
      "Enter a number between 1-10: 4\n",
      "4 is valid\n"
     ]
    }
   ],
   "source": [
    "x = int(input(\"Enter a number between 1-10: \"))\n",
    "\n",
    "if 1<=x<=10:\n",
    "    print(x, \"is valid\")\n",
    "elif x>10:\n",
    "    print(\"your number is greater than 10\")\n",
    "else:\n",
    "    print(\"your number is smaller than 1\")"
   ]
  },
  {
   "cell_type": "markdown",
   "id": "d9c45eaf",
   "metadata": {},
   "source": [
    "### WAP to enter a number from user and check if it is even or odd."
   ]
  },
  {
   "cell_type": "code",
   "execution_count": 2,
   "id": "fd8c4306",
   "metadata": {},
   "outputs": [
    {
     "name": "stdout",
     "output_type": "stream",
     "text": [
      "Enter a number: 4\n",
      "It is an even number\n"
     ]
    }
   ],
   "source": [
    "x = int(input(\"Enter a number: \"))\n",
    "if x%2 == 0:\n",
    "    print(\"It is an even number\")\n",
    "else:\n",
    "    print(\"It is an odd number\")"
   ]
  },
  {
   "cell_type": "markdown",
   "id": "67ba7715",
   "metadata": {},
   "source": [
    "### WAP to enter a character from user and check if it is vowel or consonant"
   ]
  },
  {
   "cell_type": "code",
   "execution_count": 3,
   "id": "ca222d2a",
   "metadata": {},
   "outputs": [
    {
     "name": "stdout",
     "output_type": "stream",
     "text": [
      "Enter a character: y\n",
      "y  = consonant\n"
     ]
    }
   ],
   "source": [
    "x = input(\"Enter a character: \")\n",
    "\n",
    "if x == \"a\" or x == \"e\" or x == \"i\" or x == \"o\" or x == \"u\" or x == \"A\" or x == \"E\" or x == \"I\" or x == \"O\" or x == \"U\":\n",
    "    print(x,\" = vowel\")\n",
    "else:\n",
    "    print(x,\" = consonant\")"
   ]
  },
  {
   "cell_type": "markdown",
   "id": "9130d9f3",
   "metadata": {},
   "source": [
    "###  WAP to take 2 values from user and print greater value."
   ]
  },
  {
   "cell_type": "code",
   "execution_count": 4,
   "id": "d6a8f87f",
   "metadata": {},
   "outputs": [
    {
     "name": "stdout",
     "output_type": "stream",
     "text": [
      "Enter first number: 10\n",
      "Enter second number: 20\n",
      "10 is less then 20\n"
     ]
    }
   ],
   "source": [
    "a = int(input(\"Enter first number: \"))\n",
    "b = int(input(\"Enter second number: \"))\n",
    "\n",
    "if a > b:\n",
    "    print(a,\" is greater then\",b)\n",
    "elif a < b:\n",
    "    print(a, \"is less then\",b)\n",
    "else:\n",
    "    print(a, \" is equal to\", b) year = divisible by 400 is a leap year\n",
    "\n",
    " year = divisible by 4 but not by 100 is also a leap year\n",
    "\n",
    " year = years which doesn't comes under these two conditions are not a leap year\n",
    "\n",
    " Program 👇\n"
   ]
  },
  {
   "cell_type": "markdown",
   "id": "e4160565",
   "metadata": {},
   "source": [
    "### WAP to enter a year from user and check if it is leap year of not."
   ]
  },
  {
   "cell_type": "raw",
   "id": "639a9fde",
   "metadata": {},
   "source": [
    " year = divisible by 400 is a leap year\n",
    "\n",
    " year = divisible by 4 but not by 100 is also a leap year\n",
    "\n",
    " year = years which doesn't comes under these two conditions are not a leap year\n",
    "\n",
    " Program 👇\n"
   ]
  },
  {
   "cell_type": "code",
   "execution_count": 7,
   "id": "9cb777fc",
   "metadata": {},
   "outputs": [
    {
     "name": "stdout",
     "output_type": "stream",
     "text": [
      "Enter the year: 2022\n",
      "2022 = not a leap year\n"
     ]
    }
   ],
   "source": [
    "year = int(input(\"Enter the year: \"))\n",
    "\n",
    "if (year % 400 == 0) or (year % 4 == 0 and year % 100 !=0):\n",
    "    print(year, \"= leap year\")\n",
    "else:\n",
    "    print(year, \"= not a leap year\")"
   ]
  },
  {
   "cell_type": "code",
   "execution_count": 8,
   "id": "2976088f",
   "metadata": {},
   "outputs": [
    {
     "name": "stdout",
     "output_type": "stream",
     "text": [
      "Enter the year: 2012\n",
      "2012 = leap year\n"
     ]
    }
   ],
   "source": [
    "year = int(input(\"Enter the year: \"))\n",
    "\n",
    "if (year % 400 == 0) or (year % 4 == 0 and year % 100 !=0):\n",
    "    print(year, \"= leap year\")\n",
    "else:\n",
    "    print(year, \"= not a leap year\")\n",
    "    "
   ]
  },
  {
   "cell_type": "markdown",
   "id": "ea072fa4",
   "metadata": {},
   "source": [
    "### WAP to enter a number from user and print its absolute value."
   ]
  },
  {
   "cell_type": "code",
   "execution_count": 25,
   "id": "df7e89e9",
   "metadata": {},
   "outputs": [
    {
     "name": "stdout",
     "output_type": "stream",
     "text": [
      "Enter any number: -2\n",
      "Absolute value of -2 is:  2\n"
     ]
    }
   ],
   "source": [
    "n= int(input(\"Enter any number: \"))\n",
    "if n<0:\n",
    "    print(\"Absolute value of\",n,\"is: \",abs(n))\n",
    "else:\n",
    "    print(\"Absolute value of\",n,\"is: \",n)"
   ]
  },
  {
   "cell_type": "code",
   "execution_count": 26,
   "id": "acde2387",
   "metadata": {},
   "outputs": [
    {
     "name": "stdout",
     "output_type": "stream",
     "text": [
      "Enter any number: -3\n",
      "Absolute value of -3 is:  3\n"
     ]
    }
   ],
   "source": [
    "n= int(input(\"Enter any number: \"))\n",
    "if n<0:\n",
    "    abs_n= (-1)*n\n",
    "    print(\"Absolute value of\",n,\"is: \",abs_n)\n",
    "else:\n",
    "    print(\"Absolute value of\",n,\"is: \",n)"
   ]
  },
  {
   "cell_type": "markdown",
   "id": "9f2f01ba",
   "metadata": {},
   "source": [
    "### WAP to get a list, sorted in increasing order by the last element in each tuple from a given list of non-empty tuples."
   ]
  },
  {
   "cell_type": "code",
   "execution_count": 1,
   "id": "4b703f01",
   "metadata": {},
   "outputs": [
    {
     "name": "stdout",
     "output_type": "stream",
     "text": [
      "[(2, 1), (1, 2), (2, 3), (4, 4), (2, 5)]\n"
     ]
    }
   ],
   "source": [
    "def last(n): \n",
    "    return n[-1]\n",
    "def sort_list_last(tuples):\n",
    "      return sorted(tuples, key=last)\n",
    "\n",
    "print(sort_list_last([(2, 5), (1, 2), (4, 4), (2, 3), (2, 1)]))"
   ]
  },
  {
   "cell_type": "code",
   "execution_count": null,
   "id": "cf590a64",
   "metadata": {},
   "outputs": [],
   "source": []
  }
 ],
 "metadata": {
  "kernelspec": {
   "display_name": "Python 3 (ipykernel)",
   "language": "python",
   "name": "python3"
  },
  "language_info": {
   "codemirror_mode": {
    "name": "ipython",
    "version": 3
   },
   "file_extension": ".py",
   "mimetype": "text/x-python",
   "name": "python",
   "nbconvert_exporter": "python",
   "pygments_lexer": "ipython3",
   "version": "3.8.8"
  }
 },
 "nbformat": 4,
 "nbformat_minor": 5
}
