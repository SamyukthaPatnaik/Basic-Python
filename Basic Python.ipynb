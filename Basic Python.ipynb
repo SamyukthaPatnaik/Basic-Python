{
 "cells": [
  {
   "cell_type": "markdown",
   "id": "6d852947",
   "metadata": {},
   "source": [
    "# Variables"
   ]
  },
  {
   "cell_type": "code",
   "execution_count": 1,
   "id": "54e7b1ce",
   "metadata": {},
   "outputs": [],
   "source": [
    "x = 5\n",
    "y = \"John\""
   ]
  },
  {
   "cell_type": "code",
   "execution_count": 2,
   "id": "74221db1",
   "metadata": {},
   "outputs": [
    {
     "name": "stdout",
     "output_type": "stream",
     "text": [
      "5\n",
      "John\n"
     ]
    }
   ],
   "source": [
    "#the value of x and y\n",
    "print(x)\n",
    "print(y)"
   ]
  },
  {
   "cell_type": "code",
   "execution_count": 3,
   "id": "29e801fc",
   "metadata": {},
   "outputs": [
    {
     "name": "stdout",
     "output_type": "stream",
     "text": [
      "Sally\n"
     ]
    }
   ],
   "source": [
    "x = 4       # x is of type int\n",
    "x = \"Sally\" # x is now of type str\n",
    "print(x)    # exchanged the value of x "
   ]
  },
  {
   "cell_type": "code",
   "execution_count": 4,
   "id": "90a902b7",
   "metadata": {
    "scrolled": true
   },
   "outputs": [
    {
     "name": "stdout",
     "output_type": "stream",
     "text": [
      "4 \n",
      " Sally\n"
     ]
    }
   ],
   "source": [
    "a = 4\n",
    "A = \"Sally\"\n",
    "#A will not overwrite a bcs python us case sensitive \n",
    "print(a,\"\\n\",A)"
   ]
  },
  {
   "cell_type": "markdown",
   "id": "bd96c37c",
   "metadata": {},
   "source": [
    "# Basic Questions"
   ]
  },
  {
   "cell_type": "raw",
   "id": "19ad6a64",
   "metadata": {},
   "source": [
    "name\n",
    "    college\n",
    "            city"
   ]
  },
  {
   "cell_type": "code",
   "execution_count": 5,
   "id": "38ab3d42",
   "metadata": {},
   "outputs": [
    {
     "name": "stdout",
     "output_type": "stream",
     "text": [
      "name\n",
      "\tcollege\n",
      "\t\tcity\n"
     ]
    }
   ],
   "source": [
    "print(\"name\\n\\tcollege\\n\\t\\tcity\")"
   ]
  },
  {
   "cell_type": "raw",
   "id": "88c83be0",
   "metadata": {},
   "source": [
    "*\n",
    "**\n",
    "***"
   ]
  },
  {
   "cell_type": "code",
   "execution_count": 6,
   "id": "b6b3750a",
   "metadata": {
    "scrolled": true
   },
   "outputs": [
    {
     "name": "stdout",
     "output_type": "stream",
     "text": [
      "*\n",
      "**\n",
      "***\n"
     ]
    }
   ],
   "source": [
    "print(\"*\\n**\\n***\")"
   ]
  },
  {
   "cell_type": "raw",
   "id": "c0982dd1",
   "metadata": {},
   "source": [
    "  *\n",
    "*   *\n",
    "  *"
   ]
  },
  {
   "cell_type": "code",
   "execution_count": 7,
   "id": "7156549e",
   "metadata": {
    "scrolled": true
   },
   "outputs": [
    {
     "name": "stdout",
     "output_type": "stream",
     "text": [
      "    *\n",
      "*\t*\n",
      "    *\n"
     ]
    }
   ],
   "source": [
    "print(\"    *\\n*\\t*\\n    *\")"
   ]
  },
  {
   "cell_type": "markdown",
   "id": "96e7b67c",
   "metadata": {},
   "source": [
    "# Case Sensitive"
   ]
  },
  {
   "cell_type": "code",
   "execution_count": 8,
   "id": "ff9133c7",
   "metadata": {},
   "outputs": [],
   "source": [
    "# Camel Case\n",
    "# Each word, except the first, starts with a capital letter:\n",
    "\n",
    "myVariableName = \"John\""
   ]
  },
  {
   "cell_type": "code",
   "execution_count": 9,
   "id": "b09a7800",
   "metadata": {},
   "outputs": [],
   "source": [
    "# Pascal Case\n",
    "# Each word starts with a capital letter:\n",
    "\n",
    "MyVariableName = \"John\""
   ]
  },
  {
   "cell_type": "code",
   "execution_count": 10,
   "id": "bb38b23d",
   "metadata": {},
   "outputs": [],
   "source": [
    "# Snake Case\n",
    "# Each word is separated by an underscore character:\n",
    "\n",
    "my_variable_name = \"John\""
   ]
  },
  {
   "cell_type": "code",
   "execution_count": 11,
   "id": "64ad09c5",
   "metadata": {},
   "outputs": [
    {
     "name": "stdout",
     "output_type": "stream",
     "text": [
      "Sam\n",
      "Shub\n",
      "pragati\n"
     ]
    }
   ],
   "source": [
    "# multiple variables at once\n",
    "x, y, z = \"Sam\", \"Shub\", \"pragati\"\n",
    "print(x)\n",
    "print(y)\n",
    "print(z)"
   ]
  },
  {
   "cell_type": "code",
   "execution_count": 12,
   "id": "e867cafc",
   "metadata": {
    "scrolled": true
   },
   "outputs": [
    {
     "name": "stdout",
     "output_type": "stream",
     "text": [
      "Sam\n",
      "Sam\n",
      "Sam\n"
     ]
    }
   ],
   "source": [
    "# same value in multiple variables in one line \n",
    "x= y= z = \"Sam\"\n",
    "print(x)\n",
    "print(y)\n",
    "print(z)"
   ]
  },
  {
   "cell_type": "markdown",
   "id": "d25a9c56",
   "metadata": {},
   "source": [
    "# Unpack The List"
   ]
  },
  {
   "cell_type": "code",
   "execution_count": 13,
   "id": "9d7a8cfa",
   "metadata": {
    "scrolled": false
   },
   "outputs": [
    {
     "name": "stdout",
     "output_type": "stream",
     "text": [
      "Sam\n",
      "Shub\n",
      "pragati\n"
     ]
    }
   ],
   "source": [
    "# Unpack the list\n",
    "names = [\"Sam\", \"Shub\", \"pragati\"]\n",
    "x, y, z = names\n",
    "print(x)\n",
    "print(y)\n",
    "print(z)"
   ]
  },
  {
   "cell_type": "markdown",
   "id": "ede0d1c0",
   "metadata": {},
   "source": [
    "# Unpack The Tuples"
   ]
  },
  {
   "cell_type": "code",
   "execution_count": 14,
   "id": "1bffd9ad",
   "metadata": {
    "scrolled": true
   },
   "outputs": [
    {
     "name": "stdout",
     "output_type": "stream",
     "text": [
      "Sam\n",
      "Shub\n",
      "pragati\n"
     ]
    }
   ],
   "source": [
    "names = (\"Sam\", \"Shub\", \"pragati\")\n",
    "(green, yellow,red)=names\n",
    "print(green)\n",
    "print(yellow)\n",
    "print(red)"
   ]
  },
  {
   "cell_type": "markdown",
   "id": "5a53adeb",
   "metadata": {},
   "source": [
    "# Using Asterisk *"
   ]
  },
  {
   "cell_type": "code",
   "execution_count": 15,
   "id": "4bfd0b94",
   "metadata": {
    "scrolled": true
   },
   "outputs": [
    {
     "name": "stdout",
     "output_type": "stream",
     "text": [
      "Sam\n",
      "Shub\n",
      "['pragati', 'anuj', 'shweta']\n"
     ]
    }
   ],
   "source": [
    "names = (\"Sam\", \"Shub\", \"pragati\",\"anuj\",\"shweta\")\n",
    "(green, yellow,*red)=names\n",
    "print(green)\n",
    "print(yellow)\n",
    "print(red) #Using asterisk, if the number of variables is less than the numberof values, we can add an * to the variable name and the values will be assigned to the variable as a list"
   ]
  },
  {
   "cell_type": "code",
   "execution_count": 16,
   "id": "a01d45da",
   "metadata": {},
   "outputs": [
    {
     "name": "stdout",
     "output_type": "stream",
     "text": [
      "Sam\n",
      "['Shub', 'pragati', 'anuj']\n",
      "shweta\n"
     ]
    }
   ],
   "source": [
    "names = (\"Sam\", \"Shub\", \"pragati\",\"anuj\",\"shweta\")\n",
    "(green, *yellow,red)=names\n",
    "print(green)\n",
    "print(yellow)\n",
    "print(red) "
   ]
  },
  {
   "cell_type": "code",
   "execution_count": 17,
   "id": "d520a740",
   "metadata": {},
   "outputs": [
    {
     "name": "stdout",
     "output_type": "stream",
     "text": [
      "python is Awesome\n",
      "python is Awesome\n"
     ]
    }
   ],
   "source": [
    "x = \"python\"\n",
    "y = \"is\"\n",
    "z = \"Awesome\"\n",
    "print(x,y,z) # seperated by comma\n",
    "print(x +\" \"+y+\" \"+z) # with plus operator"
   ]
  },
  {
   "cell_type": "markdown",
   "id": "95540f3f",
   "metadata": {},
   "source": [
    "# Operators"
   ]
  },
  {
   "cell_type": "raw",
   "id": "47ba6717",
   "metadata": {},
   "source": [
    "# Arithmetic Operators\n",
    "# + - * / % // **"
   ]
  },
  {
   "cell_type": "code",
   "execution_count": 18,
   "id": "e5dbb1c3",
   "metadata": {
    "scrolled": true
   },
   "outputs": [
    {
     "name": "stdout",
     "output_type": "stream",
     "text": [
      "12\n",
      "6\n",
      "3.0\n",
      "27\n",
      "729\n",
      "0\n",
      "3\n"
     ]
    }
   ],
   "source": [
    "# mathematical operator \n",
    "x= 9\n",
    "y= 3\n",
    "print(x+y) \n",
    "print(x-y)\n",
    "print(x/y)\n",
    "print(x*y)\n",
    "print(x**y) # exponents\n",
    "print(x%y) # modulo\n",
    "print(x//y) # floor division"
   ]
  },
  {
   "cell_type": "code",
   "execution_count": 19,
   "id": "5bf0e6fc",
   "metadata": {},
   "outputs": [
    {
     "name": "stdout",
     "output_type": "stream",
     "text": [
      "HelloWorld\n",
      "Hello World\n"
     ]
    }
   ],
   "source": [
    "#Merge variable a with variable b into variable c\n",
    "a = \"Hello\"\n",
    "b = \"World\"\n",
    "c = a + b\n",
    "d = a +\" \"+ b\n",
    "print(c)\n",
    "print(d)"
   ]
  },
  {
   "cell_type": "raw",
   "id": "6bca72a1",
   "metadata": {},
   "source": [
    "# Relational Operators\n",
    "#  >, <, >= , <=, ==, !="
   ]
  },
  {
   "cell_type": "code",
   "execution_count": 20,
   "id": "962a0a2f",
   "metadata": {},
   "outputs": [
    {
     "name": "stdout",
     "output_type": "stream",
     "text": [
      "True\n"
     ]
    }
   ],
   "source": [
    "print(x>y)"
   ]
  },
  {
   "cell_type": "code",
   "execution_count": 21,
   "id": "72fd5ee6",
   "metadata": {},
   "outputs": [
    {
     "name": "stdout",
     "output_type": "stream",
     "text": [
      "False\n"
     ]
    }
   ],
   "source": [
    "print(x<y)"
   ]
  },
  {
   "cell_type": "code",
   "execution_count": 22,
   "id": "a69dd06c",
   "metadata": {},
   "outputs": [
    {
     "name": "stdout",
     "output_type": "stream",
     "text": [
      "True\n"
     ]
    }
   ],
   "source": [
    "print(x>=y)"
   ]
  },
  {
   "cell_type": "code",
   "execution_count": 23,
   "id": "b35f21ec",
   "metadata": {},
   "outputs": [
    {
     "name": "stdout",
     "output_type": "stream",
     "text": [
      "False\n"
     ]
    }
   ],
   "source": [
    "print(x<=y)"
   ]
  },
  {
   "cell_type": "code",
   "execution_count": 24,
   "id": "e02eb6a6",
   "metadata": {},
   "outputs": [
    {
     "name": "stdout",
     "output_type": "stream",
     "text": [
      "False\n"
     ]
    }
   ],
   "source": [
    "print(x==y)"
   ]
  },
  {
   "cell_type": "code",
   "execution_count": 25,
   "id": "443bce75",
   "metadata": {
    "scrolled": false
   },
   "outputs": [
    {
     "name": "stdout",
     "output_type": "stream",
     "text": [
      "True\n"
     ]
    }
   ],
   "source": [
    "print(x!=y)"
   ]
  },
  {
   "cell_type": "raw",
   "id": "ecabd39d",
   "metadata": {},
   "source": [
    "Ternary Statements"
   ]
  },
  {
   "cell_type": "code",
   "execution_count": 26,
   "id": "643ea080",
   "metadata": {},
   "outputs": [
    {
     "name": "stdout",
     "output_type": "stream",
     "text": [
      "5\n"
     ]
    }
   ],
   "source": [
    "a= 10 \n",
    "b = 5 if a == 10 else 20\n",
    "print(b)"
   ]
  },
  {
   "cell_type": "code",
   "execution_count": 27,
   "id": "2f29ac43",
   "metadata": {},
   "outputs": [
    {
     "name": "stdout",
     "output_type": "stream",
     "text": [
      "20\n"
     ]
    }
   ],
   "source": [
    "a= 5\n",
    "b = 5 if a == 10 else 20\n",
    "print(b)"
   ]
  },
  {
   "cell_type": "markdown",
   "id": "f9a3bfd7",
   "metadata": {},
   "source": [
    "# Global Variables"
   ]
  },
  {
   "cell_type": "code",
   "execution_count": 28,
   "id": "90192fe3",
   "metadata": {},
   "outputs": [
    {
     "name": "stdout",
     "output_type": "stream",
     "text": [
      "I am sam\n"
     ]
    }
   ],
   "source": [
    "# Global variable\n",
    "x =\"sam\"\n",
    "def myfunc():\n",
    "    print(\"I am\" +\" \"+ x)\n",
    "    \n",
    "myfunc()"
   ]
  },
  {
   "cell_type": "code",
   "execution_count": 29,
   "id": "96e61a55",
   "metadata": {},
   "outputs": [
    {
     "name": "stdout",
     "output_type": "stream",
     "text": [
      "Python is Awesome\n",
      "It is easy to use\n"
     ]
    }
   ],
   "source": [
    "# Global variable can use inside and outside the function \n",
    "\n",
    "x =\"Awesome\"\n",
    "y =\"use\"\n",
    "def myfunc():\n",
    "    print(\"Python is\" +\" \"+ x)\n",
    "    \n",
    "myfunc()\n",
    "print(\"It is easy to\"+\" \"+y)"
   ]
  },
  {
   "cell_type": "markdown",
   "id": "8f31667c",
   "metadata": {},
   "source": [
    "# Global Keyword"
   ]
  },
  {
   "cell_type": "code",
   "execution_count": 30,
   "id": "6762b688",
   "metadata": {},
   "outputs": [
    {
     "name": "stdout",
     "output_type": "stream",
     "text": [
      "Hello world\n"
     ]
    }
   ],
   "source": [
    "# Global keyword, the variable belongs to teh global scope\n",
    "def myfunc():\n",
    "    global x\n",
    "    x = \"world\"\n",
    "myfunc()\n",
    "\n",
    "print(\"Hello\"+\" \"+x)"
   ]
  },
  {
   "cell_type": "code",
   "execution_count": 31,
   "id": "a60c3313",
   "metadata": {},
   "outputs": [
    {
     "name": "stdout",
     "output_type": "stream",
     "text": [
      "Hello world\n"
     ]
    }
   ],
   "source": [
    "x= \"jupyter\"\n",
    "def myfunc():\n",
    "    global x\n",
    "    x = \"world\"\n",
    "myfunc()\n",
    "\n",
    "print(\"Hello\"+\" \"+x)\n",
    "# to change the value of global variable, refer to teh variable and use *global* keyword inside the funtion"
   ]
  },
  {
   "cell_type": "markdown",
   "id": "e16b9ce1",
   "metadata": {},
   "source": [
    "# Built-in Data Types"
   ]
  },
  {
   "cell_type": "raw",
   "id": "db68b92c",
   "metadata": {},
   "source": [
    "Text Type:\t              str\n",
    "\n",
    "Numeric Types:\t          int, float, complex\n",
    "\n",
    "Sequence Types:\t          list, tuple, range\n",
    "\n",
    "Mapping Type:\t          dict\n",
    "\n",
    "Set Types:\t              set, frozenset\n",
    "\n",
    "Boolean Type:\t          bool\n",
    "\n",
    "Binary Types:\t          bytes, bytearray, memoryview\n",
    "\n",
    "None Type:\t              NoneType"
   ]
  },
  {
   "cell_type": "code",
   "execution_count": 32,
   "id": "c6588741",
   "metadata": {},
   "outputs": [
    {
     "name": "stdout",
     "output_type": "stream",
     "text": [
      "<class 'int'>\n",
      "<class 'str'>\n"
     ]
    }
   ],
   "source": [
    "x=2\n",
    "y='sam'\n",
    "#the data type of x and y\n",
    "print(type(x))\n",
    "print(type(y))"
   ]
  },
  {
   "cell_type": "code",
   "execution_count": 33,
   "id": "156c6c3b",
   "metadata": {},
   "outputs": [
    {
     "name": "stdout",
     "output_type": "stream",
     "text": [
      "3 3 3.0\n",
      "<class 'str'> <class 'int'> <class 'float'>\n",
      "<class 'complex'>\n"
     ]
    }
   ],
   "source": [
    "a = 1j\n",
    "x = str(3)    # x will be '3'\n",
    "y = int(3)    # y will be 3\n",
    "z = float(3)  # z will be 3.0\n",
    "print(x,y,z)\n",
    "print(type(x),type(y),type(z))\n",
    "print(type(a)) # complex numeric type"
   ]
  },
  {
   "cell_type": "code",
   "execution_count": 34,
   "id": "79bc556f",
   "metadata": {},
   "outputs": [
    {
     "name": "stdout",
     "output_type": "stream",
     "text": [
      "<class 'int'>\n",
      "<class 'float'>\n",
      "<class 'int'>\n"
     ]
    }
   ],
   "source": [
    "x = 1\n",
    "y = 322558711.2\n",
    "z = -3255522\n",
    "\n",
    "print(type(x))\n",
    "print(type(y))\n",
    "print(type(z))"
   ]
  },
  {
   "cell_type": "code",
   "execution_count": 35,
   "id": "a813eb4f",
   "metadata": {
    "scrolled": true
   },
   "outputs": [
    {
     "name": "stdout",
     "output_type": "stream",
     "text": [
      "1.0\n",
      "2\n",
      "(1+0j)\n",
      "<class 'float'>\n",
      "<class 'int'>\n",
      "<class 'complex'>\n"
     ]
    }
   ],
   "source": [
    "x = 1    # int\n",
    "y = 2.8  # float\n",
    "z = 1j   # complex\n",
    "\n",
    "# converting from int to float\n",
    "a = float(x)\n",
    "#convert from float to int:\n",
    "b = int(y)\n",
    "#convert from int to complex:\n",
    "c = complex(x)\n",
    "\n",
    "print(a);print(b);print(c)\n",
    "print(type(a)); print(type(b)); print(type(c));"
   ]
  },
  {
   "cell_type": "code",
   "execution_count": 36,
   "id": "2eca252f",
   "metadata": {},
   "outputs": [
    {
     "name": "stdout",
     "output_type": "stream",
     "text": [
      "['apple', 'banana', 'cherry'] <class 'list'>\n",
      "('apple', 'banana', 'cherry') <class 'tuple'>\n",
      "range(0, 6) <class 'range'>\n",
      "{'name': 'John', 'age': 36} <class 'dict'>\n",
      "{'cherry', 'banana', 'apple'} <class 'set'>\n",
      "frozenset({'cherry', 'banana', 'apple'}) <class 'frozenset'>\n"
     ]
    }
   ],
   "source": [
    "x = [\"apple\", \"banana\", \"cherry\"]\n",
    "y = (\"apple\", \"banana\", \"cherry\")\n",
    "z = range(6)\n",
    "a = {\"name\" : \"John\", \"age\" : 36}\n",
    "b = {\"apple\", \"banana\", \"cherry\"}\n",
    "c = frozenset({\"apple\", \"banana\", \"cherry\"})\n",
    "\n",
    "print(x,type(x))\n",
    "print(y, type(y))\n",
    "print(z, type(z))\n",
    "print(a, type(a))\n",
    "print(b, type(b))\n",
    "print(c,type(c))"
   ]
  },
  {
   "cell_type": "markdown",
   "id": "8e20146e",
   "metadata": {},
   "source": [
    "# Random Number"
   ]
  },
  {
   "cell_type": "code",
   "execution_count": 37,
   "id": "5cb6a57b",
   "metadata": {},
   "outputs": [
    {
     "name": "stdout",
     "output_type": "stream",
     "text": [
      "7\n"
     ]
    }
   ],
   "source": [
    "import random\n",
    "\n",
    "print(random.randrange(1,20)) # Random value between 1 to 20"
   ]
  },
  {
   "cell_type": "markdown",
   "id": "933b53f7",
   "metadata": {},
   "source": [
    "# String"
   ]
  },
  {
   "cell_type": "code",
   "execution_count": 38,
   "id": "c026ab71",
   "metadata": {},
   "outputs": [
    {
     "name": "stdout",
     "output_type": "stream",
     "text": [
      "H\n",
      "e\n",
      "l\n",
      "l\n",
      "o\n"
     ]
    }
   ],
   "source": [
    "#print the character according to the position(starts from 0)\n",
    "a = \"Hello world\"\n",
    "print(a[0])\n",
    "print(a[1])\n",
    "print(a[2])\n",
    "print(a[3])\n",
    "print(a[4])"
   ]
  },
  {
   "cell_type": "code",
   "execution_count": 39,
   "id": "417e0334",
   "metadata": {},
   "outputs": [
    {
     "name": "stdout",
     "output_type": "stream",
     "text": [
      "11\n"
     ]
    }
   ],
   "source": [
    "#String length\n",
    "print(len(a))"
   ]
  },
  {
   "cell_type": "code",
   "execution_count": 40,
   "id": "38b2def7",
   "metadata": {},
   "outputs": [
    {
     "name": "stdout",
     "output_type": "stream",
     "text": [
      "True\n"
     ]
    }
   ],
   "source": [
    "txt = \"Nature is beautiful\"\n",
    "print(\"beautiful\" in txt)"
   ]
  },
  {
   "cell_type": "code",
   "execution_count": 41,
   "id": "9f9ed1de",
   "metadata": {},
   "outputs": [
    {
     "name": "stdout",
     "output_type": "stream",
     "text": [
      "yes,'beautiful' is present\n"
     ]
    }
   ],
   "source": [
    "if \"beautiful\" in txt:\n",
    "    print(\"yes,'beautiful' is present\")"
   ]
  },
  {
   "cell_type": "code",
   "execution_count": 42,
   "id": "8b914a55",
   "metadata": {},
   "outputs": [
    {
     "name": "stdout",
     "output_type": "stream",
     "text": [
      "yes,'expensive' is not present\n"
     ]
    }
   ],
   "source": [
    "if \"expensive\" not in txt:\n",
    "    print(\"yes,'expensive' is not present\")"
   ]
  },
  {
   "cell_type": "code",
   "execution_count": 43,
   "id": "0b59238a",
   "metadata": {},
   "outputs": [
    {
     "name": "stdout",
     "output_type": "stream",
     "text": [
      "llo\n"
     ]
    }
   ],
   "source": [
    "a= \"Hello World!\"\n",
    "print(a[2:5])"
   ]
  },
  {
   "cell_type": "code",
   "execution_count": 44,
   "id": "bc26ebc5",
   "metadata": {},
   "outputs": [
    {
     "name": "stdout",
     "output_type": "stream",
     "text": [
      "HELLO WORLD!\n"
     ]
    }
   ],
   "source": [
    "print(a.upper())"
   ]
  },
  {
   "cell_type": "code",
   "execution_count": 45,
   "id": "05ef542e",
   "metadata": {},
   "outputs": [
    {
     "name": "stdout",
     "output_type": "stream",
     "text": [
      "hello world!\n"
     ]
    }
   ],
   "source": [
    "print(a.lower())"
   ]
  },
  {
   "cell_type": "code",
   "execution_count": 46,
   "id": "f1fb8f44",
   "metadata": {},
   "outputs": [
    {
     "name": "stdout",
     "output_type": "stream",
     "text": [
      "Jello World!\n"
     ]
    }
   ],
   "source": [
    "print(a.replace(\"H\",\"J\"))"
   ]
  },
  {
   "cell_type": "code",
   "execution_count": 47,
   "id": "34661bba",
   "metadata": {},
   "outputs": [
    {
     "name": "stdout",
     "output_type": "stream",
     "text": [
      "['Hello', 'World!']\n"
     ]
    }
   ],
   "source": [
    "print(a.split(\" \"))"
   ]
  },
  {
   "cell_type": "markdown",
   "id": "51a9e8a1",
   "metadata": {},
   "source": [
    "# Format- String"
   ]
  },
  {
   "cell_type": "code",
   "execution_count": 48,
   "id": "dce8cfa6",
   "metadata": {},
   "outputs": [
    {
     "name": "stdout",
     "output_type": "stream",
     "text": [
      "My name is sam, and I am 23\n"
     ]
    }
   ],
   "source": [
    "# age = 23\n",
    "# txt = \"My name is sam, I am \" + age\n",
    "# print(txt)\n",
    "#Error- can only concatenate str (not \"int\") to str\n",
    "\n",
    "# Use the format() method to insert numbers into strings:\n",
    "age = 23\n",
    "txt = \"My name is sam, and I am {}\"\n",
    "print(txt.format(age))"
   ]
  },
  {
   "cell_type": "code",
   "execution_count": 49,
   "id": "93098499",
   "metadata": {},
   "outputs": [
    {
     "name": "stdout",
     "output_type": "stream",
     "text": [
      "I want 3 pieces of item 567 for 49.95 dollars.\n",
      "I want to pay 49.95 dollars for 3 pieces of item 567.\n"
     ]
    }
   ],
   "source": [
    "quantity = 3\n",
    "itemno = 567\n",
    "price = 49.95\n",
    "myorder =\"I want {} pieces of item {} for {} dollars.\"\n",
    "order = \"I want to pay {2} dollars for {0} pieces of item {1}.\"\n",
    "print(myorder.format(quantity, itemno, price))\n",
    "print(order.format(quantity, itemno, price))"
   ]
  },
  {
   "cell_type": "code",
   "execution_count": 50,
   "id": "ca15fc05",
   "metadata": {},
   "outputs": [
    {
     "data": {
      "text/plain": [
       "'My name is \"sam\" from nagpur'"
      ]
     },
     "execution_count": 50,
     "metadata": {},
     "output_type": "execute_result"
    }
   ],
   "source": [
    "#info= \"My name is \"sam\" from nagpur\" -- we will get an error if we use double quotes inside a string that is surrounded by double quotes\n",
    "info= \"My name is \\\"sam\\\" from nagpur\"\n",
    "info"
   ]
  },
  {
   "cell_type": "markdown",
   "id": "e7920373",
   "metadata": {},
   "source": [
    "# Escape Characters"
   ]
  },
  {
   "cell_type": "raw",
   "id": "fd1f3c96",
   "metadata": {},
   "source": [
    "Code   Result\n",
    "\n",
    "\\'    -->   Single Quote\n",
    "\\\\    -->   Backslash\n",
    "\\n    -->   New Line\n",
    "\\r    -->   Carriage Return\n",
    "\\t    -->   Tab\n",
    "\\b    -->   Backspace\n",
    "\\f    -->   Form Feed\n",
    "\\ooo  -->   Octal value\n",
    "\\xhh  -->   Hex value\n"
   ]
  },
  {
   "cell_type": "markdown",
   "id": "7635676b",
   "metadata": {},
   "source": [
    "# User Input"
   ]
  },
  {
   "cell_type": "code",
   "execution_count": 51,
   "id": "3b52a152",
   "metadata": {},
   "outputs": [
    {
     "name": "stdout",
     "output_type": "stream",
     "text": [
      "10\n",
      "10\n"
     ]
    }
   ],
   "source": [
    "a= input()\n",
    "print(a)"
   ]
  },
  {
   "cell_type": "code",
   "execution_count": 52,
   "id": "e9506013",
   "metadata": {},
   "outputs": [
    {
     "name": "stdout",
     "output_type": "stream",
     "text": [
      "Enter your name: Sam\n",
      "Sam\n"
     ]
    }
   ],
   "source": [
    "a= input(\"Enter your name: \")\n",
    "print(a)"
   ]
  },
  {
   "cell_type": "code",
   "execution_count": 53,
   "id": "d1ecc5c1",
   "metadata": {},
   "outputs": [
    {
     "name": "stdout",
     "output_type": "stream",
     "text": [
      "Enter your name: Sam\n",
      "Hello Sam\n"
     ]
    }
   ],
   "source": [
    "a= input(\"Enter your name: \")\n",
    "print(\"Hello\",a)"
   ]
  },
  {
   "cell_type": "code",
   "execution_count": 54,
   "id": "ef315a80",
   "metadata": {},
   "outputs": [
    {
     "name": "stdout",
     "output_type": "stream",
     "text": [
      "Enter first number: 10\n",
      "Enter second number: 20\n",
      "Addition of 10 20 is 1020\n"
     ]
    }
   ],
   "source": [
    "a = input(\"Enter first number: \")\n",
    "b= input(\"Enter second number: \")\n",
    "c =a+b\n",
    "print(\"Addition of\",a,b,\"is\",c)\n",
    "# it is considering a and b as string "
   ]
  },
  {
   "cell_type": "code",
   "execution_count": 55,
   "id": "2a6ec8a2",
   "metadata": {},
   "outputs": [
    {
     "name": "stdout",
     "output_type": "stream",
     "text": [
      "Enter first number: 10\n",
      "Enter second number: 20\n",
      "Addition of a and b is:  30\n"
     ]
    }
   ],
   "source": [
    "a = int(input(\"Enter first number: \"))\n",
    "b = int(input(\"Enter second number: \"))\n",
    "c = a+b \n",
    "print(\"Addition of a and b is: \",c)"
   ]
  },
  {
   "cell_type": "markdown",
   "id": "5f15aae3",
   "metadata": {},
   "source": [
    "# Conditional Statements"
   ]
  },
  {
   "cell_type": "raw",
   "id": "4da061f3",
   "metadata": {},
   "source": [
    "1. If Else\n",
    "2. If\n",
    "3. Else\n",
    "4. El If (else if)\n",
    "5. If Else Ternary Expression"
   ]
  },
  {
   "cell_type": "code",
   "execution_count": 56,
   "id": "d2c1675b",
   "metadata": {
    "scrolled": false
   },
   "outputs": [
    {
     "name": "stdout",
     "output_type": "stream",
     "text": [
      "Username= Sam\n",
      "Not allowed \n",
      " File Restricted\n"
     ]
    }
   ],
   "source": [
    "a = input(\"Username= \")\n",
    "\n",
    "if a == \"Samyuktha\":\n",
    "    print(\"Hello Admin\")\n",
    "else:\n",
    "    print(\"Not allowed \\n File Restricted\")"
   ]
  },
  {
   "cell_type": "code",
   "execution_count": 57,
   "id": "165ce4ff",
   "metadata": {},
   "outputs": [
    {
     "name": "stdout",
     "output_type": "stream",
     "text": [
      "Enter a number between 1-10: 2\n",
      "2 is valid\n"
     ]
    }
   ],
   "source": [
    "x = int(input(\"Enter a number between 1-10: \"))\n",
    "\n",
    "if 1<=x<=10:\n",
    "    print(x, \"is valid\")\n",
    "elif x>10:\n",
    "    print(\"your number is greater than 10\")\n",
    "else:\n",
    "    print(\"your number is smaller than 1\")"
   ]
  },
  {
   "cell_type": "markdown",
   "id": "3bcc4b36",
   "metadata": {},
   "source": [
    "### Nested If else"
   ]
  },
  {
   "cell_type": "code",
   "execution_count": 102,
   "id": "27dc7f23",
   "metadata": {},
   "outputs": [
    {
     "name": "stdout",
     "output_type": "stream",
     "text": [
      "Enter user name: samyuktha\n",
      " Enter password: sam\n",
      "Enter pincode: 1010\n",
      "Welcome Samyuktha\n"
     ]
    }
   ],
   "source": [
    "# user name = samyuktha \n",
    "# password = sam\n",
    "# pincode = 1010\n",
    "user = input(\"Enter user name: \")\n",
    "if user == \"samyuktha\":\n",
    "    password = input(\" Enter password: \")\n",
    "    if password == \"sam\":\n",
    "        pincode = int(input(\"Enter pincode: \"))\n",
    "        if pincode == 1010:\n",
    "            print(\"Welcome Samyuktha\")\n",
    "        else:\n",
    "            print(\"File restricted\")\n",
    "    else:\n",
    "        print(\"File restricted\")\n",
    "else:\n",
    "    print(\"File restricted\")"
   ]
  },
  {
   "cell_type": "code",
   "execution_count": null,
   "id": "e4994c26",
   "metadata": {},
   "outputs": [],
   "source": []
  }
 ],
 "metadata": {
  "kernelspec": {
   "display_name": "Python 3 (ipykernel)",
   "language": "python",
   "name": "python3"
  },
  "language_info": {
   "codemirror_mode": {
    "name": "ipython",
    "version": 3
   },
   "file_extension": ".py",
   "mimetype": "text/x-python",
   "name": "python",
   "nbconvert_exporter": "python",
   "pygments_lexer": "ipython3",
   "version": "3.8.8"
  }
 },
 "nbformat": 4,
 "nbformat_minor": 5
}
